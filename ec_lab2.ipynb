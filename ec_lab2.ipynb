{
  "cells": [
    {
      "cell_type": "markdown",
      "metadata": {
        "id": "-Cr_DAThsaWj"
      },
      "source": [
        "## EC Lab 2\n",
        "### Summary\n",
        "The aim of lab is to learn a reinforcement learning agent to play simple GYM environment (LunarLander-v2). The agent is a neural network that takes as input current state of a game and outputs probabilities for actions. (https://gym.openai.com/).\n",
        "\n",
        "You have a pattern script with main structure of algorithm, but you have to repair it or change it completely, as you wish. You can change current mutation, crossover, selection, evolution scheme or even use another algorithm as PSO.  To use LunarLander, you need to uncomment config for it, because by default it is stand for CartPole environment.\n",
        "\n",
        "As for LunarLander, the agent receives following rewards: -0.1 for each time you launch the engine, -100 for broke and +200 for successful landing. Therefore, good results starts from +100 approximately.\n",
        "\n",
        "Please, work with this script and try to learn the agent how to play and achieve good scores. Lets say about restriction:\n",
        "max_pop_size = 20;\n",
        "maximum_iterations = 200.\n",
        "\n",
        "Prepare IPython Notebook with all your things there (maybe some good analysis, and ideas). Send me only IPython file topic ec_lab2_surname on mihail.melnik.ifmo@gmail.com."
      ]
    },
    {
      "cell_type": "code",
      "execution_count": null,
      "metadata": {
        "colab": {
          "base_uri": "https://localhost:8080/",
          "height": 367
        },
        "id": "iQtqFCPRsZah",
        "outputId": "311bae49-9774-4328-dd25-4e84f637bac1"
      },
      "outputs": [],
      "source": [
        "# Imports\n",
        "from deap import tools, base, creator\n",
        "import numpy as np\n",
        "from function_opt.ga_scheme import eaMuPlusLambda\n",
        "import numpy.random as rnd\n",
        "from tensorflow.keras import Sequential\n",
        "from tensorflow.keras.layers import Dense, InputLayer\n",
        "import gym\n",
        "from function_opt.draw_log import draw_log\n",
        "from copy import deepcopy\n",
        "\n",
        "creator.create(\"BaseFitness\", base.Fitness, weights=(1.0, ))\n",
        "creator.create(\"Individual\", list, fitness=creator.BaseFitness)"
      ]
    },
    {
      "cell_type": "code",
      "execution_count": null,
      "metadata": {
        "id": "d1QhqGn2s3IF"
      },
      "outputs": [],
      "source": [
        "class RL_ga_experiment:\n",
        "    def factory(self):\n",
        "        individual = list()\n",
        "        for i in range(len(self.params)):\n",
        "            if i % 2 == 0:\n",
        "                individual.append(rnd.normal(0.1, 0.3, size=self.params[i].shape))\n",
        "            else:\n",
        "                individual.append(np.zeros(shape=self.params[i].shape))\n",
        "        return creator.Individual(individual)\n",
        "\n",
        "    def mutation(self, individual):\n",
        "        for i in range(len(individual)):\n",
        "            if i % 2 == 0:\n",
        "                for j in range(len(individual[i])):\n",
        "                    for k in range(len(individual[i][j])):\n",
        "                        if rnd.random() < 0.15:\n",
        "                            individual[i][j] += rnd.normal(0.0, 0.2)\n",
        "\n",
        "        return individual,\n",
        "\n",
        "\n",
        "    def crossover(self, p1, p2):\n",
        "\n",
        "        c1 = list()\n",
        "        c2 = list()\n",
        "\n",
        "        c1.append(deepcopy(p1[0]))\n",
        "        c1.append(deepcopy(p1[1])) # zero\n",
        "        c1.append(deepcopy(p2[2]))\n",
        "        c1.append(deepcopy(p1[3])) # zero\n",
        "        c1.append(deepcopy(p1[4]))\n",
        "        c1.append(deepcopy(p1[5])) # zero\n",
        "\n",
        "        c2.append(deepcopy(p2[0]))\n",
        "        c2.append(deepcopy(p2[1]))  # zero\n",
        "        c2.append(deepcopy(p1[2]))\n",
        "        c2.append(deepcopy(p2[3]))  # zero\n",
        "        c2.append(deepcopy(p2[4]))\n",
        "        c2.append(deepcopy(p2[5]))  # zero\n",
        "\n",
        "        return creator.Individual(c1), creator.Individual(c2)\n",
        "\n",
        "    def __init__(self, input_dim, l1, l2, output_dim, pop_size, iterations):\n",
        "        self.input_dim = input_dim\n",
        "        self.output_dim = output_dim\n",
        "        self.l1 = l1\n",
        "        self.l2 = l2\n",
        "        self.pop_size = pop_size\n",
        "        self.iterations = iterations\n",
        "\n",
        "        self.model = self.build_model()\n",
        "        self.params = self.model.get_weights()\n",
        "\n",
        "        #self.env = gym.make(\"CartPole-v0\")\n",
        "        # todo uncomment for LunarLander\n",
        "        self.env = gym.make(\"LunarLander-v2\")\n",
        "\n",
        "        self.engine = base.Toolbox()\n",
        "        self.engine.register('map', map)\n",
        "        self.engine.register(\"individual\", tools.initIterate, creator.Individual, self.factory)\n",
        "        self.engine.register('population', tools.initRepeat, list, self.engine.individual, self.pop_size)\n",
        "        self.engine.register('mutate', self.mutation)\n",
        "        self.engine.register(\"mate\", self.crossover)\n",
        "        self.engine.register('select', tools.selTournament, tournsize=3)\n",
        "        self.engine.register('evaluate', self.fitness)\n",
        "        self.render = False\n",
        "\n",
        "    def compare(self, ind1, ind2):\n",
        "        result = True\n",
        "        for i in range(len(ind1)):\n",
        "            if i % 2 == 0:\n",
        "                for j in range(len(ind1[i])):\n",
        "                    for k in range(len(ind1[i][j])):\n",
        "                        if ind1[i][j][k] != ind2[i][j][k]:\n",
        "                            return False\n",
        "\n",
        "        return result\n",
        "\n",
        "    def run(self):\n",
        "        pop = self.engine.population()\n",
        "        hof = tools.HallOfFame(3, similar=self.compare)\n",
        "        stats = tools.Statistics(lambda ind: ind.fitness.values[0])\n",
        "        stats.register('min', np.min)\n",
        "        stats.register('max', np.max)\n",
        "        stats.register('avg', np.mean)\n",
        "        stats.register('std', np.std)\n",
        "\n",
        "        pop, log = eaMuPlusLambda(pop, self.engine, mu=self.pop_size, lambda_=int(0.8 * self.pop_size), cxpb=0.4, mutpb=0.4,\n",
        "                                  ngen=self.iterations, verbose=True, halloffame=hof, stats=stats)\n",
        "        best = hof[0]\n",
        "        print(\"Best fitness = {}\".format(best.fitness.values[0]))\n",
        "        return log, best\n",
        "\n",
        "\n",
        "    def build_model(self):\n",
        "        model = Sequential()\n",
        "        model.add(InputLayer(self.input_dim))\n",
        "        model.add(Dense(self.l1, activation='relu'))\n",
        "        model.add(Dense(self.l2, activation='relu'))\n",
        "        model.add(Dense(self.output_dim, activation='softmax'))\n",
        "        model.compile(optimizer='adam', loss='mse')\n",
        "        return model\n",
        "\n",
        "    def fitness(self, individual):\n",
        "        self.model.set_weights(individual)\n",
        "        scores = []\n",
        "        for _ in range(1):\n",
        "            state = self.env.reset()\n",
        "            score = 0.0\n",
        "            for t in range(200):\n",
        "                if self.render:\n",
        "                    self.env.render()\n",
        "                act_prob = self.model.predict(state.reshape(1, self.input_dim)).squeeze()\n",
        "                action = rnd.choice(np.arange(self.output_dim), 1, p=act_prob)[0]\n",
        "                next_state, reward, done, _ = self.env.step(action)\n",
        "                score += reward\n",
        "                state = next_state\n",
        "                if done:\n",
        "                    break\n",
        "            scores.append(score)\n",
        "        return np.mean(scores),\n"
      ]
    },
    {
      "cell_type": "code",
      "execution_count": 4,
      "metadata": {
        "colab": {
          "base_uri": "https://localhost:8080/",
          "height": 374
        },
        "id": "wfkOlG6rtAG7",
        "outputId": "f631a4c2-be31-49ed-a9c3-3f9f3bb8836d"
      },
      "outputs": [
        {
          "name": "stdout",
          "output_type": "stream",
          "text": [
            "gen\tnevals\tmin     \tmax     \tavg     \tstd    \n",
            "0  \t10    \t-813.331\t-53.3992\t-322.429\t202.988\n",
            "1  \t7     \t-170.097\t-53.3992\t-103.564\t43.6801\n",
            "2  \t6     \t-118.909\t-53.3992\t-80.2579\t28.1281\n",
            "3  \t8     \t-110.778\t-53.3992\t-71.0633\t23.1931\n",
            "4  \t8     \t-135.128\t-53.3992\t-70.8547\t25.5048\n",
            "5  \t7     \t-135.128\t-53.3992\t-70.8547\t25.5048\n",
            "6  \t7     \t-84.3413\t-53.3992\t-65.776 \t15.1585\n",
            "7  \t8     \t-84.3413\t-53.3992\t-56.4934\t9.28266\n",
            "8  \t8     \t-121.916\t-53.3992\t-62.5454\t20.9392\n",
            "9  \t7     \t-317.632\t-53.3992\t-82.117 \t78.8026\n",
            "10 \t7     \t-53.3992\t-53.3992\t-53.3992\t0      \n",
            "Best fitness = -53.39916168037189\n"
          ]
        },
        {
          "data": {
            "image/png": "[encoded data removed]",
            "text/plain": [
              "<Figure size 432x288 with 1 Axes>"
            ]
          },
          "metadata": {
            "needs_background": "light"
          },
          "output_type": "display_data"
        }
      ],
      "source": [
        "if __name__ == '__main__':\n",
        "    # config for CartPole\n",
        "    # input_dim = 4\n",
        "    # l1 = 20\n",
        "    # l2 = 12\n",
        "    # output_dim = 2\n",
        "\n",
        "    # todo config for Lunar Lander\n",
        "    input_dim = 8\n",
        "    l1 = 64\n",
        "    l2 = 16\n",
        "    output_dim = 4\n",
        "\n",
        "    pop_size = 10\n",
        "    iterations = 10\n",
        "\n",
        "    exp = RL_ga_experiment(input_dim, l1, l2, output_dim, pop_size, iterations)\n",
        "    exp.render = False\n",
        "    log, best = exp.run()\n",
        "\n",
        "    draw_log(log)\n",
        "    exp.render = True\n",
        "    for _ in range(100):\n",
        "        exp.fitness(best)"
      ]
    },
    {
      "cell_type": "code",
      "execution_count": null,
      "metadata": {},
      "outputs": [],
      "source": []
    }
  ],
  "metadata": {
    "colab": {
      "name": " ec_lab2.ipynb",
      "provenance": []
    },
    "interpreter": {
      "hash": "764d4657c624cd67f8b25b247c9b2265287317c3e15ef951a8118ba6adfb231c"
    },
    "kernelspec": {
      "display_name": "Python 3.8.8 64-bit ('env': venv)",
      "name": "python3"
    },
    "language_info": {
      "codemirror_mode": {
        "name": "ipython",
        "version": 3
      },
      "file_extension": ".py",
      "mimetype": "text/x-python",
      "name": "python",
      "nbconvert_exporter": "python",
      "pygments_lexer": "ipython3",
      "version": "3.8.8"
    }
  },
  "nbformat": 4,
  "nbformat_minor": 0
}
